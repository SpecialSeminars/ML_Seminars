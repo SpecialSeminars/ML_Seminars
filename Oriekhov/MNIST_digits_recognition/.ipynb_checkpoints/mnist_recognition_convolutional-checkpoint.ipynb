{
 "cells": [
  {
   "cell_type": "markdown",
   "metadata": {
    "toc": true
   },
   "source": [
    "<h1>Table of Contents<span class=\"tocSkip\"></span></h1>\n",
    "<div class=\"toc\"><ul class=\"toc-item\"><li><span><a href=\"#Import-Keras-and-mnist-example-data\" data-toc-modified-id=\"Import-Keras-and-mnist-example-data-1\"><span class=\"toc-item-num\">1&nbsp;&nbsp;</span>Import Keras and mnist example data</a></span><ul class=\"toc-item\"><li><ul class=\"toc-item\"><li><span><a href=\"#Prepare-data\" data-toc-modified-id=\"Prepare-data-1.0.1\"><span class=\"toc-item-num\">1.0.1&nbsp;&nbsp;</span>Prepare data</a></span></li></ul></li></ul></li><li><span><a href=\"#Small-feed-forward-neural-network\" data-toc-modified-id=\"Small-feed-forward-neural-network-2\"><span class=\"toc-item-num\">2&nbsp;&nbsp;</span>Small feed-forward neural network</a></span><ul class=\"toc-item\"><li><span><a href=\"#Relu-function\" data-toc-modified-id=\"Relu-function-2.1\"><span class=\"toc-item-num\">2.1&nbsp;&nbsp;</span>Relu function</a></span></li><li><span><a href=\"#Stochastic-gradient-descent\" data-toc-modified-id=\"Stochastic-gradient-descent-2.2\"><span class=\"toc-item-num\">2.2&nbsp;&nbsp;</span>Stochastic gradient descent</a></span></li><li><span><a href=\"#Backpropagation\" data-toc-modified-id=\"Backpropagation-2.3\"><span class=\"toc-item-num\">2.3&nbsp;&nbsp;</span>Backpropagation</a></span></li><li><span><a href=\"#Compile-and-train-neural-network\" data-toc-modified-id=\"Compile-and-train-neural-network-2.4\"><span class=\"toc-item-num\">2.4&nbsp;&nbsp;</span>Compile and train neural network</a></span></li><li><span><a href=\"#Test\" data-toc-modified-id=\"Test-2.5\"><span class=\"toc-item-num\">2.5&nbsp;&nbsp;</span>Test</a></span></li></ul></li><li><span><a href=\"#Convolutional-neural-network\" data-toc-modified-id=\"Convolutional-neural-network-3\"><span class=\"toc-item-num\">3&nbsp;&nbsp;</span>Convolutional neural network</a></span><ul class=\"toc-item\"><li><span><a href=\"#Idea:-(convolutional-+-pooling)-+-(RELU-+-softmax)-layers\" data-toc-modified-id=\"Idea:-(convolutional-+-pooling)-+-(RELU-+-softmax)-layers-3.1\"><span class=\"toc-item-num\">3.1&nbsp;&nbsp;</span>Idea: (convolutional + pooling) + (RELU + softmax) layers</a></span><ul class=\"toc-item\"><li><span><a href=\"#Convolution-layer\" data-toc-modified-id=\"Convolution-layer-3.1.1\"><span class=\"toc-item-num\">3.1.1&nbsp;&nbsp;</span>Convolution layer</a></span></li><li><span><a href=\"#Pooling-layer\" data-toc-modified-id=\"Pooling-layer-3.1.2\"><span class=\"toc-item-num\">3.1.2&nbsp;&nbsp;</span>Pooling layer</a></span></li></ul></li><li><span><a href=\"#Creating-network\" data-toc-modified-id=\"Creating-network-3.2\"><span class=\"toc-item-num\">3.2&nbsp;&nbsp;</span>Creating network</a></span></li><li><span><a href=\"#Prepare-data\" data-toc-modified-id=\"Prepare-data-3.3\"><span class=\"toc-item-num\">3.3&nbsp;&nbsp;</span>Prepare data</a></span></li><li><span><a href=\"#Training-network\" data-toc-modified-id=\"Training-network-3.4\"><span class=\"toc-item-num\">3.4&nbsp;&nbsp;</span>Training network</a></span></li><li><span><a href=\"#Checking-on-test-set\" data-toc-modified-id=\"Checking-on-test-set-3.5\"><span class=\"toc-item-num\">3.5&nbsp;&nbsp;</span>Checking on test set</a></span><ul class=\"toc-item\"><li><span><a href=\"#Plot-accuracy\" data-toc-modified-id=\"Plot-accuracy-3.5.1\"><span class=\"toc-item-num\">3.5.1&nbsp;&nbsp;</span>Plot accuracy</a></span></li></ul></li></ul></li><li><span><a href=\"#Links-to-original-websites-and-examples\" data-toc-modified-id=\"Links-to-original-websites-and-examples-4\"><span class=\"toc-item-num\">4&nbsp;&nbsp;</span>Links to original websites and examples</a></span></li></ul></div>"
   ]
  },
  {
   "cell_type": "markdown",
   "metadata": {},
   "source": [
    "# Import Keras and mnist example data"
   ]
  },
  {
   "cell_type": "code",
   "execution_count": 1,
   "metadata": {},
   "outputs": [
    {
     "name": "stderr",
     "output_type": "stream",
     "text": [
      "Using TensorFlow backend.\n"
     ]
    },
    {
     "data": {
      "text/plain": [
       "'2.2.5'"
      ]
     },
     "execution_count": 1,
     "metadata": {},
     "output_type": "execute_result"
    }
   ],
   "source": [
    "import warnings\n",
    "warnings.filterwarnings('ignore')\n",
    "\n",
    "#for plotting\n",
    "import matplotlib.pyplot as plt\n",
    "\n",
    "from keras.utils import to_categorical\n",
    "from keras.models import Sequential,Input,Model\n",
    "from keras.layers import Dense, Dropout, Flatten\n",
    "from keras.layers import Conv2D, MaxPooling2D\n",
    "from keras.layers.normalization import BatchNormalization\n",
    "from keras.layers.advanced_activations import LeakyReLU\n",
    "\n",
    "import keras\n",
    "keras.__version__"
   ]
  },
  {
   "cell_type": "markdown",
   "metadata": {},
   "source": [
    "Import MNIST data from Keras"
   ]
  },
  {
   "cell_type": "code",
   "execution_count": 2,
   "metadata": {},
   "outputs": [],
   "source": [
    "from keras.datasets import mnist\n",
    "\n",
    "(train_images, train_labels), (test_images, test_labels) = mnist.load_data()"
   ]
  },
  {
   "cell_type": "markdown",
   "metadata": {},
   "source": [
    "Look at data properties"
   ]
  },
  {
   "cell_type": "code",
   "execution_count": 3,
   "metadata": {},
   "outputs": [
    {
     "data": {
      "text/plain": [
       "(60000, 28, 28)"
      ]
     },
     "execution_count": 3,
     "metadata": {},
     "output_type": "execute_result"
    }
   ],
   "source": [
    "train_images.shape"
   ]
  },
  {
   "cell_type": "code",
   "execution_count": 4,
   "metadata": {},
   "outputs": [
    {
     "data": {
      "text/plain": [
       "60000"
      ]
     },
     "execution_count": 4,
     "metadata": {},
     "output_type": "execute_result"
    }
   ],
   "source": [
    "len(train_labels)"
   ]
  },
  {
   "cell_type": "code",
   "execution_count": 5,
   "metadata": {},
   "outputs": [
    {
     "data": {
      "text/plain": [
       "array([5, 0, 4, ..., 5, 6, 8], dtype=uint8)"
      ]
     },
     "execution_count": 5,
     "metadata": {},
     "output_type": "execute_result"
    }
   ],
   "source": [
    "train_labels"
   ]
  },
  {
   "cell_type": "code",
   "execution_count": 6,
   "metadata": {},
   "outputs": [
    {
     "name": "stdout",
     "output_type": "stream",
     "text": [
      "4\n"
     ]
    },
    {
     "data": {
      "image/png": "[encoded data removed]",
      "text/plain": [
       "<Figure size 432x288 with 1 Axes>"
      ]
     },
     "metadata": {
      "needs_background": "light"
     },
     "output_type": "display_data"
    }
   ],
   "source": [
    "plt.imshow(train_images[2])\n",
    "print(train_labels[2])"
   ]
  },
  {
   "cell_type": "markdown",
   "metadata": {},
   "source": [
    "Test data"
   ]
  },
  {
   "cell_type": "code",
   "execution_count": 7,
   "metadata": {},
   "outputs": [
    {
     "data": {
      "text/plain": [
       "(10000, 28, 28)"
      ]
     },
     "execution_count": 7,
     "metadata": {},
     "output_type": "execute_result"
    }
   ],
   "source": [
    "test_images.shape"
   ]
  },
  {
   "cell_type": "code",
   "execution_count": 8,
   "metadata": {},
   "outputs": [
    {
     "data": {
      "text/plain": [
       "10000"
      ]
     },
     "execution_count": 8,
     "metadata": {},
     "output_type": "execute_result"
    }
   ],
   "source": [
    "len(test_labels)"
   ]
  },
  {
   "cell_type": "markdown",
   "metadata": {},
   "source": [
    "### Prepare data"
   ]
  },
  {
   "cell_type": "code",
   "execution_count": 9,
   "metadata": {},
   "outputs": [],
   "source": [
    "train_images = train_images.reshape((60000, 28 * 28))\n",
    "train_images = train_images.astype('float32') / 255\n",
    "\n",
    "test_images = test_images.reshape((10000, 28 * 28))\n",
    "test_images = test_images.astype('float32') / 255"
   ]
  },
  {
   "cell_type": "code",
   "execution_count": 10,
   "metadata": {},
   "outputs": [],
   "source": [
    "train_labels = to_categorical(train_labels)\n",
    "test_labels = to_categorical(test_labels)"
   ]
  },
  {
   "cell_type": "markdown",
   "metadata": {},
   "source": [
    "# Small feed-forward neural network"
   ]
  },
  {
   "cell_type": "code",
   "execution_count": 11,
   "metadata": {},
   "outputs": [
    {
     "name": "stdout",
     "output_type": "stream",
     "text": [
      "WARNING:tensorflow:From C:\\Users\\Dmitry\\AppData\\Local\\Programs\\Python\\Python37\\lib\\site-packages\\keras\\backend\\tensorflow_backend.py:66: The name tf.get_default_graph is deprecated. Please use tf.compat.v1.get_default_graph instead.\n",
      "\n",
      "WARNING:tensorflow:From C:\\Users\\Dmitry\\AppData\\Local\\Programs\\Python\\Python37\\lib\\site-packages\\keras\\backend\\tensorflow_backend.py:541: The name tf.placeholder is deprecated. Please use tf.compat.v1.placeholder instead.\n",
      "\n",
      "WARNING:tensorflow:From C:\\Users\\Dmitry\\AppData\\Local\\Programs\\Python\\Python37\\lib\\site-packages\\keras\\backend\\tensorflow_backend.py:4432: The name tf.random_uniform is deprecated. Please use tf.random.uniform instead.\n",
      "\n"
     ]
    }
   ],
   "source": [
    "from keras import models\n",
    "from keras import layers\n",
    "\n",
    "network = models.Sequential()\n",
    "# add one layer\n",
    "network.add(layers.Dense(512, activation='relu', input_shape=(28 * 28,)))\n",
    "#one more layer - test the effect\n",
    "network.add(layers.Dense(512, activation='relu', input_shape=(28 * 28,)))\n",
    "network.add(layers.Dense(10, activation='softmax'))"
   ]
  },
  {
   "cell_type": "markdown",
   "metadata": {},
   "source": [
    "## Relu function"
   ]
  },
  {
   "cell_type": "markdown",
   "metadata": {},
   "source": [
    "output = relu(dot(W, input) + b);\n",
    "\n",
    "relu(x) = max(x, 0).\n",
    "\n",
    "attributes: W - kernel, b - bias"
   ]
  },
  {
   "cell_type": "markdown",
   "metadata": {},
   "source": [
    "## Stochastic gradient descent"
   ]
  },
  {
   "cell_type": "markdown",
   "metadata": {},
   "source": [
    "1. Calculate loss of predicted y values for random batch of data.\n",
    "\n",
    "  loss_value = loss(y_predicted, y)\n",
    "\n",
    "2. Compute the gradient of the loss with regard to the network’s parameters (a backward pass)\n",
    "\n",
    "3. Move the parameters a little in the opposite direction from the gradient"
   ]
  },
  {
   "cell_type": "markdown",
   "metadata": {},
   "source": [
    "## Backpropagation"
   ]
  },
  {
   "cell_type": "markdown",
   "metadata": {},
   "source": [
    "Optimizes weight for many layers using chain rule for derivative:\n",
    "\n",
    " f(g(x)) = f'(g(x)) * g'(x) "
   ]
  },
  {
   "cell_type": "markdown",
   "metadata": {},
   "source": [
    "## Compile and train neural network"
   ]
  },
  {
   "cell_type": "code",
   "execution_count": 13,
   "metadata": {},
   "outputs": [],
   "source": [
    "network.compile(optimizer='rmsprop', \n",
    "                loss='categorical_crossentropy',\n",
    "                metrics=['accuracy'])"
   ]
  },
  {
   "cell_type": "code",
   "execution_count": 15,
   "metadata": {},
   "outputs": [
    {
     "name": "stdout",
     "output_type": "stream",
     "text": [
      "Epoch 1/5\n",
      "60000/60000 [==============================] - 8s 135us/step - loss: 0.0923 - acc: 0.9713 1s - loss\n",
      "Epoch 2/5\n",
      "60000/60000 [==============================] - 8s 135us/step - loss: 0.0596 - acc: 0.9818\n",
      "Epoch 3/5\n",
      "60000/60000 [==============================] - 8s 137us/step - loss: 0.0415 - acc: 0.9876\n",
      "Epoch 4/5\n",
      "60000/60000 [==============================] - 9s 144us/step - loss: 0.0299 - acc: 0.9904\n",
      "Epoch 5/5\n",
      "60000/60000 [==============================] - 9s 147us/step - loss: 0.0247 - acc: 0.9927\n"
     ]
    },
    {
     "data": {
      "text/plain": [
       "<keras.callbacks.History at 0x287eb62e3c8>"
      ]
     },
     "execution_count": 15,
     "metadata": {},
     "output_type": "execute_result"
    }
   ],
   "source": [
    "network.fit(train_images, train_labels, epochs=5, batch_size=128)"
   ]
  },
  {
   "cell_type": "markdown",
   "metadata": {},
   "source": [
    "## Test"
   ]
  },
  {
   "cell_type": "code",
   "execution_count": 16,
   "metadata": {},
   "outputs": [
    {
     "name": "stdout",
     "output_type": "stream",
     "text": [
      "10000/10000 [==============================] - 1s 80us/step\n"
     ]
    }
   ],
   "source": [
    "test_loss, test_acc = network.evaluate(test_images, test_labels)"
   ]
  },
  {
   "cell_type": "code",
   "execution_count": 17,
   "metadata": {},
   "outputs": [
    {
     "name": "stdout",
     "output_type": "stream",
     "text": [
      "test_acc: 0.9833\n"
     ]
    }
   ],
   "source": [
    "print('test_acc:', test_acc)"
   ]
  },
  {
   "cell_type": "markdown",
   "metadata": {},
   "source": [
    "# Convolutional neural network"
   ]
  },
  {
   "cell_type": "markdown",
   "metadata": {},
   "source": [
    "## Idea: (convolutional + pooling) + (RELU + softmax) layers "
   ]
  },
  {
   "cell_type": "markdown",
   "metadata": {},
   "source": [
    "![SegmentLocal](image-con-net.jpeg \"segment\")"
   ]
  },
  {
   "cell_type": "markdown",
   "metadata": {},
   "source": [
    "### Convolution layer"
   ]
  },
  {
   "cell_type": "markdown",
   "metadata": {},
   "source": [
    "The idea is to extract the high-level features such as edges from the input image."
   ]
  },
  {
   "cell_type": "markdown",
   "metadata": {},
   "source": [
    "![SegmentLocal](conv-layer.gif \"segment\")"
   ]
  },
  {
   "cell_type": "markdown",
   "metadata": {},
   "source": [
    "Image pixel values are multiplied by fixed matrix - Kernel, and the sum is inserted into new matrix."
   ]
  },
  {
   "cell_type": "markdown",
   "metadata": {},
   "source": [
    "### Pooling layer"
   ]
  },
  {
   "cell_type": "markdown",
   "metadata": {},
   "source": [
    "![SegmentLocal](pooling-layer.jpg)"
   ]
  },
  {
   "cell_type": "markdown",
   "metadata": {},
   "source": [
    "We will use max pooling algoritm."
   ]
  },
  {
   "cell_type": "markdown",
   "metadata": {},
   "source": [
    "## Creating network"
   ]
  },
  {
   "cell_type": "code",
   "execution_count": 18,
   "metadata": {},
   "outputs": [],
   "source": [
    "batch_size = 64\n",
    "epochs = 5\n",
    "num_classes = 10"
   ]
  },
  {
   "cell_type": "code",
   "execution_count": 20,
   "metadata": {},
   "outputs": [],
   "source": [
    "conv_network = Sequential()\n",
    "\n",
    "conv_network.add(Conv2D(32, kernel_size=(3, 3),activation='linear',input_shape=(28,28,1),padding='same'))\n",
    "conv_network.add(LeakyReLU(alpha=0.1))\n",
    "conv_network.add(MaxPooling2D((2, 2),padding='same'))\n",
    "\n",
    "#add as many layers as needed\n",
    "'''\n",
    "conv_network.add(Conv2D(64, (3, 3), activation='linear',padding='same'))\n",
    "conv_network.add(LeakyReLU(alpha=0.1))\n",
    "conv_network.add(MaxPooling2D(pool_size=(2, 2),padding='same'))\n",
    "\n",
    "conv_network.add(Conv2D(128, (3, 3), activation='linear',padding='same'))\n",
    "conv_network.add(LeakyReLU(alpha=0.1))                  \n",
    "conv_network.add(MaxPooling2D(pool_size=(2, 2),padding='same'))\n",
    "'''\n",
    "conv_network.add(Flatten())\n",
    "conv_network.add(Dense(32, activation='linear'))\n",
    "#conv_network.add(Dense(128, activation='linear'))\n",
    "conv_network.add(LeakyReLU(alpha=0.1))                  \n",
    "conv_network.add(Dense(num_classes, activation='softmax'))"
   ]
  },
  {
   "cell_type": "markdown",
   "metadata": {},
   "source": [
    "Compile"
   ]
  },
  {
   "cell_type": "code",
   "execution_count": 21,
   "metadata": {},
   "outputs": [],
   "source": [
    "conv_network.compile(loss=keras.losses.categorical_crossentropy, \n",
    "                     optimizer=keras.optimizers.Adam(),metrics=['accuracy'])"
   ]
  },
  {
   "cell_type": "markdown",
   "metadata": {},
   "source": [
    "Some information about network"
   ]
  },
  {
   "cell_type": "code",
   "execution_count": 22,
   "metadata": {},
   "outputs": [
    {
     "name": "stdout",
     "output_type": "stream",
     "text": [
      "Model: \"sequential_3\"\n",
      "_________________________________________________________________\n",
      "Layer (type)                 Output Shape              Param #   \n",
      "=================================================================\n",
      "conv2d_2 (Conv2D)            (None, 28, 28, 32)        320       \n",
      "_________________________________________________________________\n",
      "leaky_re_lu_3 (LeakyReLU)    (None, 28, 28, 32)        0         \n",
      "_________________________________________________________________\n",
      "max_pooling2d_2 (MaxPooling2 (None, 14, 14, 32)        0         \n",
      "_________________________________________________________________\n",
      "flatten_2 (Flatten)          (None, 6272)              0         \n",
      "_________________________________________________________________\n",
      "dense_6 (Dense)              (None, 32)                200736    \n",
      "_________________________________________________________________\n",
      "leaky_re_lu_4 (LeakyReLU)    (None, 32)                0         \n",
      "_________________________________________________________________\n",
      "dense_7 (Dense)              (None, 10)                330       \n",
      "=================================================================\n",
      "Total params: 201,386\n",
      "Trainable params: 201,386\n",
      "Non-trainable params: 0\n",
      "_________________________________________________________________\n"
     ]
    }
   ],
   "source": [
    "conv_network.summary()"
   ]
  },
  {
   "cell_type": "markdown",
   "metadata": {},
   "source": [
    "## Prepare data"
   ]
  },
  {
   "cell_type": "code",
   "execution_count": 23,
   "metadata": {},
   "outputs": [],
   "source": [
    "(train_X, train_Y), (test_X, test_Y) = mnist.load_data()"
   ]
  },
  {
   "cell_type": "code",
   "execution_count": 24,
   "metadata": {},
   "outputs": [
    {
     "name": "stdout",
     "output_type": "stream",
     "text": [
      "(60000, 28, 28, 1) (10000, 28, 28, 1)\n"
     ]
    }
   ],
   "source": [
    "train_X = train_X.reshape(-1, 28,28, 1)\n",
    "test_X = test_X.reshape(-1, 28,28, 1)\n",
    "print(train_X.shape, test_X.shape)"
   ]
  },
  {
   "cell_type": "code",
   "execution_count": 25,
   "metadata": {},
   "outputs": [],
   "source": [
    "train_X = train_X.astype('float32')\n",
    "test_X = test_X.astype('float32')\n",
    "train_X = train_X / 255.\n",
    "test_X = test_X / 255."
   ]
  },
  {
   "cell_type": "markdown",
   "metadata": {},
   "source": [
    "Change labels to vector encoding"
   ]
  },
  {
   "cell_type": "code",
   "execution_count": 26,
   "metadata": {},
   "outputs": [],
   "source": [
    "train_Y_one_hot = to_categorical(train_Y)\n",
    "test_Y_one_hot = to_categorical(test_Y)"
   ]
  },
  {
   "cell_type": "markdown",
   "metadata": {},
   "source": [
    "('Original label:', 9)\n",
    "\n",
    "('After conversion to vector:', array([ 0.,  0.,  0.,  0.,  0.,  0.,  0.,  0.,  0.,  1.]))"
   ]
  },
  {
   "cell_type": "code",
   "execution_count": 27,
   "metadata": {},
   "outputs": [],
   "source": [
    "from sklearn.model_selection import train_test_split\n",
    "train_X,valid_X,train_label,valid_label = train_test_split(train_X, train_Y_one_hot, test_size=0.2, random_state=13)"
   ]
  },
  {
   "cell_type": "markdown",
   "metadata": {},
   "source": [
    "## Training network"
   ]
  },
  {
   "cell_type": "code",
   "execution_count": 28,
   "metadata": {
    "scrolled": true
   },
   "outputs": [
    {
     "name": "stdout",
     "output_type": "stream",
     "text": [
      "Train on 48000 samples, validate on 12000 samples\n",
      "Epoch 1/5\n",
      "48000/48000 [==============================] - 26s 552us/step - loss: 0.2532 - acc: 0.9272 - val_loss: 0.1133 - val_acc: 0.9664\n",
      "Epoch 2/5\n",
      "48000/48000 [==============================] - 46s 949us/step - loss: 0.0837 - acc: 0.9746 - val_loss: 0.0785 - val_acc: 0.9777\n",
      "Epoch 3/5\n",
      "48000/48000 [==============================] - 32s 659us/step - loss: 0.0597 - acc: 0.9819 - val_loss: 0.0669 - val_acc: 0.9803\n",
      "Epoch 4/5\n",
      "48000/48000 [==============================] - 39s 810us/step - loss: 0.0479 - acc: 0.9856 - val_loss: 0.0669 - val_acc: 0.9792\n",
      "Epoch 5/5\n",
      "48000/48000 [==============================] - 32s 662us/step - loss: 0.0387 - acc: 0.9881 - val_loss: 0.0648 - val_acc: 0.9816\n"
     ]
    }
   ],
   "source": [
    "conv_network_train = conv_network.fit(train_X, train_label, batch_size=batch_size,epochs=epochs,\n",
    "                                      verbose=1,validation_data=(valid_X, valid_label))"
   ]
  },
  {
   "cell_type": "markdown",
   "metadata": {},
   "source": [
    "## Checking on test set"
   ]
  },
  {
   "cell_type": "code",
   "execution_count": 29,
   "metadata": {},
   "outputs": [
    {
     "name": "stdout",
     "output_type": "stream",
     "text": [
      "10000/10000 [==============================] - 2s 157us/step\n"
     ]
    }
   ],
   "source": [
    "test_eval = conv_network.evaluate(test_X, test_Y_one_hot)"
   ]
  },
  {
   "cell_type": "code",
   "execution_count": 30,
   "metadata": {},
   "outputs": [
    {
     "name": "stdout",
     "output_type": "stream",
     "text": [
      "Test loss: 0.05069118672464974\n",
      "Test accuracy: 0.9828\n"
     ]
    }
   ],
   "source": [
    "print('Test loss:', test_eval[0])\n",
    "print('Test accuracy:', test_eval[1])"
   ]
  },
  {
   "cell_type": "markdown",
   "metadata": {},
   "source": [
    "### Plot accuracy "
   ]
  },
  {
   "cell_type": "code",
   "execution_count": 31,
   "metadata": {},
   "outputs": [
    {
     "data": {
      "image/png": "[encoded data removed]",
      "text/plain": [
       "<Figure size 432x288 with 1 Axes>"
      ]
     },
     "metadata": {
      "needs_background": "light"
     },
     "output_type": "display_data"
    },
    {
     "data": {
      "image/png": "[encoded data removed]",
      "text/plain": [
       "<Figure size 432x288 with 1 Axes>"
      ]
     },
     "metadata": {
      "needs_background": "light"
     },
     "output_type": "display_data"
    }
   ],
   "source": [
    "accuracy = conv_network_train.history['acc']\n",
    "val_accuracy = conv_network_train.history['val_acc']\n",
    "loss = conv_network_train.history['loss']\n",
    "val_loss = conv_network_train.history['val_loss']\n",
    "epochs = range(len(accuracy))\n",
    "plt.plot(epochs, accuracy, 'bo', label='Training accuracy')\n",
    "plt.plot(epochs, val_accuracy, 'b', label='Validation accuracy')\n",
    "plt.title('Training and validation accuracy')\n",
    "plt.legend()\n",
    "plt.figure()\n",
    "plt.plot(epochs, loss, 'bo', label='Training loss')\n",
    "plt.plot(epochs, val_loss, 'b', label='Validation loss')\n",
    "plt.title('Training and validation loss')\n",
    "plt.legend()\n",
    "plt.show()"
   ]
  },
  {
   "cell_type": "markdown",
   "metadata": {
    "heading_collapsed": true
   },
   "source": [
    "# Links to original websites and examples"
   ]
  },
  {
   "cell_type": "markdown",
   "metadata": {
    "hidden": true
   },
   "source": [
    "https://www.datacamp.com/community/tutorials/convolutional-neural-networks-python\n",
    "\n",
    "https://towardsdatascience.com/a-comprehensive-guide-to-convolutional-neural-networks-the-eli5-way-3bd2b1164a53\n",
    "\n",
    "Book: Deep Learning with Python"
   ]
  },
  {
   "cell_type": "code",
   "execution_count": null,
   "metadata": {
    "hidden": true
   },
   "outputs": [],
   "source": []
  }
 ],
 "metadata": {
  "kernelspec": {
   "display_name": "Python 3",
   "language": "python",
   "name": "python3"
  },
  "language_info": {
   "codemirror_mode": {
    "name": "ipython",
    "version": 3
   },
   "file_extension": ".py",
   "mimetype": "text/x-python",
   "name": "python",
   "nbconvert_exporter": "python",
   "pygments_lexer": "ipython3",
   "version": "3.7.4"
  },
  "toc": {
   "base_numbering": 1,
   "nav_menu": {},
   "number_sections": true,
   "sideBar": true,
   "skip_h1_title": false,
   "title_cell": "Table of Contents",
   "title_sidebar": "Contents",
   "toc_cell": true,
   "toc_position": {},
   "toc_section_display": true,
   "toc_window_display": false
  }
 },
 "nbformat": 4,
 "nbformat_minor": 2
}
